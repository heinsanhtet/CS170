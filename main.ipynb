{
 "cells": [
  {
   "cell_type": "code",
   "execution_count": 23,
   "metadata": {},
   "outputs": [
    {
     "name": "stdout",
     "output_type": "stream",
     "text": [
      "Requirement already satisfied: networkx in /srv/conda/envs/notebook/lib/python3.9/site-packages (2.8.6)\n",
      "Note: you may need to restart the kernel to use updated packages.\n",
      "Requirement already satisfied: numpy in /srv/conda/envs/notebook/lib/python3.9/site-packages (1.21.2)\n",
      "Note: you may need to restart the kernel to use updated packages.\n",
      "Requirement already satisfied: tqdm in /srv/conda/envs/notebook/lib/python3.9/site-packages (4.64.1)\n",
      "Note: you may need to restart the kernel to use updated packages.\n",
      "Requirement already satisfied: matplotlib in /srv/conda/envs/notebook/lib/python3.9/site-packages (3.4.3)\n",
      "Requirement already satisfied: cycler>=0.10 in /srv/conda/envs/notebook/lib/python3.9/site-packages (from matplotlib) (0.11.0)\n",
      "Requirement already satisfied: pillow>=6.2.0 in /srv/conda/envs/notebook/lib/python3.9/site-packages (from matplotlib) (8.3.1)\n",
      "Requirement already satisfied: numpy>=1.16 in /srv/conda/envs/notebook/lib/python3.9/site-packages (from matplotlib) (1.21.2)\n",
      "Requirement already satisfied: kiwisolver>=1.0.1 in /srv/conda/envs/notebook/lib/python3.9/site-packages (from matplotlib) (1.4.4)\n",
      "Requirement already satisfied: pyparsing>=2.2.1 in /srv/conda/envs/notebook/lib/python3.9/site-packages (from matplotlib) (3.0.6)\n",
      "Requirement already satisfied: python-dateutil>=2.7 in /srv/conda/envs/notebook/lib/python3.9/site-packages (from matplotlib) (2.8.2)\n",
      "Requirement already satisfied: six>=1.5 in /srv/conda/envs/notebook/lib/python3.9/site-packages (from python-dateutil>=2.7->matplotlib) (1.16.0)\n",
      "Note: you may need to restart the kernel to use updated packages.\n"
     ]
    }
   ],
   "source": [
    "# Install packages\n",
    "%pip install networkx\n",
    "%pip install numpy\n",
    "%pip install tqdm\n",
    "%pip install matplotlib"
   ]
  },
  {
   "cell_type": "code",
   "execution_count": 24,
   "metadata": {},
   "outputs": [],
   "source": [
    "# The starter code is short and simple, take a look!\n",
    "from starter import *"
   ]
  },
  {
   "cell_type": "markdown",
   "metadata": {},
   "source": [
    "# Phase 1 - Create Inputs"
   ]
  },
  {
   "cell_type": "code",
   "execution_count": 69,
   "metadata": {},
   "outputs": [],
   "source": [
    "# Add edges with G.add_edge(u, v, weight=w)\n",
    "# Idea: consider making the inputs with a solution in mind, \n",
    "# such that you know the solution when the outputs are released\n",
    "import random\n",
    "\n",
    "def small(G: nx.Graph):\n",
    "    for i in range(100):\n",
    "        for j in range(100):\n",
    "            if i != j:\n",
    "                G.add_edge(i, j, weight=random.randint(1, 1000))\n",
    "    \n",
    "def medium(G: nx.Graph):\n",
    "    already_in = []\n",
    "    i = 0\n",
    "    while i <= 10000:\n",
    "        rand_v1 = random.randint(0, 299)\n",
    "        rand_v2 = random.randint(0, 299)\n",
    "        rand_v = 1000 * rand_v1 + rand_v2\n",
    "        if rand_v in already_in or rand_v1 == rand_v2:\n",
    "            continue\n",
    "        i += 1\n",
    "        already_in.append(rand_v)\n",
    "        G.add_edge(rand_v1, rand_v2, weight=random.randint(1, 1000))\n",
    "        \n",
    "    \n",
    "def large(G: nx.Graph):\n",
    "    already_in = []\n",
    "    i = 0\n",
    "    while i <= 10000:\n",
    "        rand_v1 = random.randint(0, 999)\n",
    "        rand_v2 = random.randint(0, 999)\n",
    "        rand_v = 1000 * rand_v1 + rand_v2\n",
    "        if rand_v in already_in or rand_v1 == rand_v2:\n",
    "            continue\n",
    "        i += 1\n",
    "        already_in.append(rand_v)\n",
    "        G.add_edge(rand_v1, rand_v2, weight=random.randint(1, 1000))"
   ]
  },
  {
   "cell_type": "code",
   "execution_count": 70,
   "metadata": {},
   "outputs": [],
   "source": [
    "G = nx.empty_graph(N_SMALL)\n",
    "small(G)\n",
    "write_input(G, 'small.in')\n",
    "\n",
    "G = nx.empty_graph(N_MEDIUM)\n",
    "medium(G)\n",
    "write_input(G, 'medium.in')\n",
    "\n",
    "G = nx.empty_graph(N_LARGE)\n",
    "large(G)\n",
    "write_input(G, 'large.in')"
   ]
  },
  {
   "cell_type": "markdown",
   "metadata": {},
   "source": [
    "# Phase 2 - Implement your Solver"
   ]
  },
  {
   "cell_type": "code",
   "execution_count": null,
   "metadata": {},
   "outputs": [],
   "source": [
    "def solve(G: nx.Graph):\n",
    "    # TODO implement this function with your solver\n",
    "    # Assign a team to v with G.nodes[v]['team'] = team_id\n",
    "    # Access the team of v with team_id = G.nodes[v]['team']\n",
    "    pass"
   ]
  },
  {
   "cell_type": "code",
   "execution_count": null,
   "metadata": {},
   "outputs": [],
   "source": [
    "G = read_input('small.in')\n",
    "solve(G)\n",
    "validate_output(G)\n",
    "visualize(G)\n",
    "score(G)"
   ]
  },
  {
   "cell_type": "code",
   "execution_count": null,
   "metadata": {},
   "outputs": [],
   "source": [
    "run(solve, 'small.in', 'small.out')"
   ]
  },
  {
   "cell_type": "code",
   "execution_count": null,
   "metadata": {},
   "outputs": [],
   "source": [
    "run_all(solve, 'input', 'output')\n",
    "tar('output')"
   ]
  }
 ],
 "metadata": {
  "kernelspec": {
   "display_name": "Python 3 (ipykernel)",
   "language": "python",
   "name": "python3"
  },
  "language_info": {
   "codemirror_mode": {
    "name": "ipython",
    "version": 3
   },
   "file_extension": ".py",
   "mimetype": "text/x-python",
   "name": "python",
   "nbconvert_exporter": "python",
   "pygments_lexer": "ipython3",
   "version": "3.9.9"
  }
 },
 "nbformat": 4,
 "nbformat_minor": 4
}
